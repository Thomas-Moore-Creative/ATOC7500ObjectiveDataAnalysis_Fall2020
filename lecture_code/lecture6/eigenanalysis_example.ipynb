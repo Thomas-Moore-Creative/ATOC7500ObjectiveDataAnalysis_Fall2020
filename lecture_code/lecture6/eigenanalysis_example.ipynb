{
 "cells": [
  {
   "cell_type": "code",
   "execution_count": 1,
   "metadata": {},
   "outputs": [],
   "source": [
    "### ATOC7500 - eigenanalysis_example\n",
    "## coded by Vineel Yettella (University of Colorado)\n",
    "## Last updated February 15, 2019\n",
    "\n",
    "import numpy as np\n",
    "import matplotlib.pyplot as plt\n",
    "import pandas as pd\n",
    "import numpy.linalg as LA\n",
    "%matplotlib inline"
   ]
  },
  {
   "cell_type": "markdown",
   "metadata": {},
   "source": [
    "### 1) Create a synthetic 2d dataset, plot it, and print some summary statistics."
   ]
  },
  {
   "cell_type": "code",
   "execution_count": 6,
   "metadata": {},
   "outputs": [
    {
     "name": "stdout",
     "output_type": "stream",
     "text": [
      "x1:\n",
      "[1.77210046 2.16831747 3.37152659 0.20971552 3.00997423]\n",
      "\n",
      "\n",
      "x2:\n",
      "[ 9.88891858 10.15114575 10.32746015  7.96543489 10.14430556]\n",
      "\n",
      "\n",
      "Sample mean of x1: 2.9935115693512047\n",
      "Sample mean of x2: 9.981149452571225\n",
      "Sample variance of x1: 4.535779887631923\n",
      "Sample variance of x2: 1.2124731806809153\n",
      "Total variance in the data: 5.748253068312838\n",
      "\n",
      "\n",
      "Covariance Matrix\n",
      "[[4.  1.6]\n",
      " [1.6 1. ]]\n"
     ]
    },
    {
     "data": {
      "image/png": "[encoded data removed]",
      "text/plain": [
       "<Figure size 432x288 with 1 Axes>"
      ]
     },
     "metadata": {
      "needs_background": "light"
     },
     "output_type": "display_data"
    }
   ],
   "source": [
    "## Create the synthetic 2d dataset\n",
    "\n",
    "#Choose the number of samples M\n",
    "M = 50\n",
    "\n",
    "variance_x1 = 4\n",
    "variance_x2 = 1\n",
    "mean_x1 = 3\n",
    "mean_x2 = 10\n",
    "\n",
    "#specified correlation between -1 and 1 to construct a valid covariance matrix\n",
    "rho12 = 0.8\n",
    "\n",
    "#create the population covariance matrix\n",
    "covariance_matrix = [[variance_x1, rho12*np.sqrt(variance_x1*variance_x2)], [rho12*np.sqrt(variance_x1*variance_x2), variance_x2]]\n",
    "covariance_matrix = np.around(covariance_matrix, decimals=3)\n",
    "\n",
    "means = [mean_x1, mean_x2]\n",
    "means = np.around(means, decimals=3)\n",
    "\n",
    "#simulate\n",
    "x1, x2 = np.random.multivariate_normal(means, covariance_matrix, M).T\n",
    "\n",
    "#print a few values\n",
    "print ('x1:')\n",
    "print(x1[0:5])\n",
    "print('\\n')\n",
    "print('x2:')\n",
    "print(x2[0:5])\n",
    "\n",
    "#print some summary statistics\n",
    "print('\\n')\n",
    "print(\"Sample mean of x1: {}\".format(np.mean(x1)))\n",
    "print(\"Sample mean of x2: {}\".format(np.mean(x2)))\n",
    "print(\"Sample variance of x1: {}\".format(np.var(x1)))\n",
    "print(\"Sample variance of x2: {}\".format(np.var(x2)))\n",
    "print(\"Total variance in the data: {}\".format(np.var(x1) + np.var(x2)))\n",
    "print('\\n')\n",
    "print(\"Covariance Matrix\")\n",
    "print(covariance_matrix)\n",
    "\n",
    "#plot x1, x2\n",
    "plt.scatter(x1, x2, s=75, color = 'black')\n",
    "plt.axis('equal')\n",
    "plt.xlabel('x1')\n",
    "plt.ylabel('x2')\n",
    "plt.grid(alpha = 0.4)\n",
    "plt.rcParams['axes.labelsize']=15\n"
   ]
  },
  {
   "cell_type": "markdown",
   "metadata": {},
   "source": [
    "### 2) Calculate the eigenvectors and eigenvalues of the synthetic 2d dataset."
   ]
  },
  {
   "cell_type": "code",
   "execution_count": 3,
   "metadata": {},
   "outputs": [
    {
     "name": "stdout",
     "output_type": "stream",
     "text": [
      "Data matrix X shape:\n",
      "(50, 2)\n",
      "\n",
      "\n",
      "eigen values:\n",
      "[4.45738215 0.22651675]\n",
      "\n",
      "\n",
      "eigen vectors:\n",
      "[[ 0.9266011  -0.37604575]\n",
      " [ 0.37604575  0.9266011 ]]\n",
      "\n",
      "\n",
      "Sum of eigen values:\n",
      "4.683898894659196\n",
      "Total variance in the data\n",
      "4.683898894659196\n"
     ]
    }
   ],
   "source": [
    "##Do the eigenanalysis\n",
    "\n",
    "#construct data matrix X, convention: variables across columns and observations across rows\n",
    "X = np.array([x1, x2]).T\n",
    "print('Data matrix X shape:')\n",
    "print(X.shape)\n",
    "\n",
    "#remove mean from each column\n",
    "X = X - np.mean(X, axis = 0)\n",
    "\n",
    "#construct sample covariance matrix C\n",
    "C  = (1/(M - 1))*np.dot(X.T, X)\n",
    "#Alternatively, you could use numpy's cov function\n",
    "\n",
    "#compute eigenvectors and eigenvalues\n",
    "eigenvals, eigenvecs = LA.eig(C)\n",
    "\n",
    "#sort eigen values in descending order\n",
    "inds = np.argsort(eigenvals)\n",
    "eigenvals = eigenvals[inds[::-1]]\n",
    "#sort eigen vectors accordingly\n",
    "eigenvecs = eigenvecs[:, inds[::-1]]\n",
    "\n",
    "print('\\n')\n",
    "print('eigen values:')\n",
    "print(eigenvals)\n",
    "print('\\n')\n",
    "print('eigen vectors:')\n",
    "print(eigenvecs)\n",
    "\n",
    "print('\\n')\n",
    "print('Sum of eigen values:')\n",
    "print(np.sum(eigenvals))\n",
    "\n",
    "print('Total variance in the data')\n",
    "print(np.sum(np.diag(C)))"
   ]
  },
  {
   "cell_type": "markdown",
   "metadata": {},
   "source": [
    "### 3) Plot the eigenvectors to show how they capture the orthogonal directions along which most of the variability in the dataset is explained."
   ]
  },
  {
   "cell_type": "code",
   "execution_count": 4,
   "metadata": {},
   "outputs": [
    {
     "data": {
      "image/png": "[encoded data removed]",
      "text/plain": [
       "<Figure size 432x288 with 1 Axes>"
      ]
     },
     "metadata": {
      "needs_background": "light"
     },
     "output_type": "display_data"
    }
   ],
   "source": [
    "#plot eigen vectors\n",
    "fig, ax = plt.subplots()\n",
    "plt.scatter(x1, x2, s=100, color = 'black')\n",
    "plt.axis('equal')\n",
    "plt.xlabel('x1')\n",
    "plt.ylabel('x2')\n",
    "plt.grid(alpha = 0.4)\n",
    "ylim = plt.ylim()\n",
    "xlim = plt.xlim()\n",
    "#plot eigen vector 1\n",
    "plt.plot([-100*eigenvecs[0,0] + np.mean(x1), 100*eigenvecs[0,0] + np.mean(x1)],\n",
    "         [-100*eigenvecs[1,0] + np.mean(x2), 100*eigenvecs[1,0] + np.mean(x2)], \n",
    "         linestyle = '--',color = 'red', label = 'eigen vector 1')\n",
    "#plot eigen vector 2\n",
    "plt.plot([-100*eigenvecs[0,1] + np.mean(x1), 100*eigenvecs[0,1] + np.mean(x1)],\n",
    "         [-100*eigenvecs[1,1] + np.mean(x2), 100*eigenvecs[1,1] + np.mean(x2)], \n",
    "         linestyle = '--',color = 'blue', label = 'eigen vector 2')\n",
    "plt.ylim(ylim);\n",
    "plt.xlim(xlim);\n",
    "plt.legend(fontsize = 13);"
   ]
  },
  {
   "cell_type": "code",
   "execution_count": null,
   "metadata": {
    "collapsed": true
   },
   "outputs": [],
   "source": []
  }
 ],
 "metadata": {
  "kernelspec": {
   "display_name": "Python 3",
   "language": "python",
   "name": "python3"
  },
  "language_info": {
   "codemirror_mode": {
    "name": "ipython",
    "version": 3
   },
   "file_extension": ".py",
   "mimetype": "text/x-python",
   "name": "python",
   "nbconvert_exporter": "python",
   "pygments_lexer": "ipython3",
   "version": "3.6.11"
  }
 },
 "nbformat": 4,
 "nbformat_minor": 2
}
