{
 "cells": [
  {
   "cell_type": "code",
   "execution_count": 24,
   "metadata": {},
   "outputs": [],
   "source": [
    "### ATOC7500 Lecture #5 - estimate_effective_sample_size\n",
    "### coded by Prof. Jennifer Kay (University of Colorado)\n",
    "### last updated September 16, 2020\n",
    "import numpy as np\n",
    "import matplotlib\n",
    "%matplotlib inline\n",
    "import matplotlib.pyplot as plt\n",
    "import xarray\n",
    "import pandas as pd   ##pandas reads in .csv.\n",
    "from scipy import stats"
   ]
  },
  {
   "cell_type": "code",
   "execution_count": 69,
   "metadata": {},
   "outputs": [
    {
     "data": {
      "text/html": [
       "<div>\n",
       "<style scoped>\n",
       "    .dataframe tbody tr th:only-of-type {\n",
       "        vertical-align: middle;\n",
       "    }\n",
       "\n",
       "    .dataframe tbody tr th {\n",
       "        vertical-align: top;\n",
       "    }\n",
       "\n",
       "    .dataframe thead th {\n",
       "        text-align: right;\n",
       "    }\n",
       "</style>\n",
       "<table border=\"1\" class=\"dataframe\">\n",
       "  <thead>\n",
       "    <tr style=\"text-align: right;\">\n",
       "      <th></th>\n",
       "      <th>Date</th>\n",
       "      <th>Time</th>\n",
       "      <th>Temp_F</th>\n",
       "      <th>RH_percent</th>\n",
       "      <th>DewTemp_F</th>\n",
       "      <th>WindSpeed_mph</th>\n",
       "      <th>SLP_mb</th>\n",
       "    </tr>\n",
       "  </thead>\n",
       "  <tbody>\n",
       "    <tr>\n",
       "      <th>0</th>\n",
       "      <td>9/6/20</td>\n",
       "      <td>12:05a</td>\n",
       "      <td>78.2</td>\n",
       "      <td>15</td>\n",
       "      <td>26.7</td>\n",
       "      <td>13</td>\n",
       "      <td>841.7</td>\n",
       "    </tr>\n",
       "    <tr>\n",
       "      <th>1</th>\n",
       "      <td>9/6/20</td>\n",
       "      <td>12:10a</td>\n",
       "      <td>78.2</td>\n",
       "      <td>15</td>\n",
       "      <td>26.7</td>\n",
       "      <td>12</td>\n",
       "      <td>841.7</td>\n",
       "    </tr>\n",
       "    <tr>\n",
       "      <th>2</th>\n",
       "      <td>9/6/20</td>\n",
       "      <td>12:15a</td>\n",
       "      <td>78.1</td>\n",
       "      <td>15</td>\n",
       "      <td>26.7</td>\n",
       "      <td>13</td>\n",
       "      <td>841.7</td>\n",
       "    </tr>\n",
       "    <tr>\n",
       "      <th>3</th>\n",
       "      <td>9/6/20</td>\n",
       "      <td>12:20a</td>\n",
       "      <td>78.1</td>\n",
       "      <td>14</td>\n",
       "      <td>25.0</td>\n",
       "      <td>14</td>\n",
       "      <td>841.7</td>\n",
       "    </tr>\n",
       "    <tr>\n",
       "      <th>4</th>\n",
       "      <td>9/6/20</td>\n",
       "      <td>12:25a</td>\n",
       "      <td>78.2</td>\n",
       "      <td>15</td>\n",
       "      <td>26.7</td>\n",
       "      <td>14</td>\n",
       "      <td>841.6</td>\n",
       "    </tr>\n",
       "    <tr>\n",
       "      <th>...</th>\n",
       "      <td>...</td>\n",
       "      <td>...</td>\n",
       "      <td>...</td>\n",
       "      <td>...</td>\n",
       "      <td>...</td>\n",
       "      <td>...</td>\n",
       "      <td>...</td>\n",
       "    </tr>\n",
       "    <tr>\n",
       "      <th>1145</th>\n",
       "      <td>9/8/20</td>\n",
       "      <td>11:35p</td>\n",
       "      <td>31.8</td>\n",
       "      <td>95</td>\n",
       "      <td>30.5</td>\n",
       "      <td>0</td>\n",
       "      <td>846.7</td>\n",
       "    </tr>\n",
       "    <tr>\n",
       "      <th>1146</th>\n",
       "      <td>9/8/20</td>\n",
       "      <td>11:40p</td>\n",
       "      <td>31.9</td>\n",
       "      <td>95</td>\n",
       "      <td>30.6</td>\n",
       "      <td>0</td>\n",
       "      <td>846.5</td>\n",
       "    </tr>\n",
       "    <tr>\n",
       "      <th>1147</th>\n",
       "      <td>9/8/20</td>\n",
       "      <td>11:45p</td>\n",
       "      <td>31.9</td>\n",
       "      <td>95</td>\n",
       "      <td>30.6</td>\n",
       "      <td>0</td>\n",
       "      <td>846.7</td>\n",
       "    </tr>\n",
       "    <tr>\n",
       "      <th>1148</th>\n",
       "      <td>9/8/20</td>\n",
       "      <td>11:50p</td>\n",
       "      <td>31.9</td>\n",
       "      <td>95</td>\n",
       "      <td>30.6</td>\n",
       "      <td>0</td>\n",
       "      <td>846.5</td>\n",
       "    </tr>\n",
       "    <tr>\n",
       "      <th>1149</th>\n",
       "      <td>9/8/20</td>\n",
       "      <td>11:55p</td>\n",
       "      <td>32.0</td>\n",
       "      <td>95</td>\n",
       "      <td>30.7</td>\n",
       "      <td>0</td>\n",
       "      <td>847.0</td>\n",
       "    </tr>\n",
       "  </tbody>\n",
       "</table>\n",
       "<p>1150 rows × 7 columns</p>\n",
       "</div>"
      ],
      "text/plain": [
       "        Date    Time  Temp_F  RH_percent  DewTemp_F  WindSpeed_mph  SLP_mb\n",
       "0     9/6/20  12:05a    78.2          15       26.7             13   841.7\n",
       "1     9/6/20  12:10a    78.2          15       26.7             12   841.7\n",
       "2     9/6/20  12:15a    78.1          15       26.7             13   841.7\n",
       "3     9/6/20  12:20a    78.1          14       25.0             14   841.7\n",
       "4     9/6/20  12:25a    78.2          15       26.7             14   841.6\n",
       "...      ...     ...     ...         ...        ...            ...     ...\n",
       "1145  9/8/20  11:35p    31.8          95       30.5              0   846.7\n",
       "1146  9/8/20  11:40p    31.9          95       30.6              0   846.5\n",
       "1147  9/8/20  11:45p    31.9          95       30.6              0   846.7\n",
       "1148  9/8/20  11:50p    31.9          95       30.6              0   846.5\n",
       "1149  9/8/20  11:55p    32.0          95       30.7              0   847.0\n",
       "\n",
       "[1150 rows x 7 columns]"
      ]
     },
     "execution_count": 69,
     "metadata": {},
     "output_type": "execute_result"
    }
   ],
   "source": [
    "filename = 'ATOC_wxobs20200907-20200908.csv'\n",
    "data=pd.read_csv(filename,sep=',')\n",
    "data"
   ]
  },
  {
   "cell_type": "code",
   "execution_count": 73,
   "metadata": {},
   "outputs": [
    {
     "name": "stdout",
     "output_type": "stream",
     "text": [
      "0       26.7\n",
      "72      35.2\n",
      "144     31.3\n",
      "216     47.1\n",
      "288     31.3\n",
      "360     38.5\n",
      "432     43.8\n",
      "504     41.4\n",
      "576     31.6\n",
      "648     38.8\n",
      "720     42.6\n",
      "792     42.8\n",
      "864     42.2\n",
      "936     33.2\n",
      "1008    32.3\n",
      "1080    30.7\n",
      "Name: DewTemp_F, dtype: float64\n",
      "[ 0.  3.  6.  9. 12. 15. 18. 21. 24. 27. 30. 33. 36. 39. 42. 45.]\n",
      "60\n"
     ]
    }
   ],
   "source": [
    "## Look at data\n",
    "foo=data['DewTemp_F']\n",
    "Nhrs=3 ## sampling rate in hours\n",
    "tseries=foo[::24*Nhrs] ## take the temperature every sampling every Nhrs\n",
    "hours=np.arange(0,48,Nhrs*1.)\n",
    "print(tseries)\n",
    "print(hours)\n",
    "print(12*5)"
   ]
  },
  {
   "cell_type": "code",
   "execution_count": 74,
   "metadata": {},
   "outputs": [
    {
     "name": "stdout",
     "output_type": "stream",
     "text": [
      "Sample Size N= 16\n",
      "Mean Temperature 36.8\n",
      "Standard Deviation in Temperature 5.8\n"
     ]
    },
    {
     "data": {
      "image/png": "[encoded data removed]",
      "text/plain": [
       "<Figure size 432x288 with 1 Axes>"
      ]
     },
     "metadata": {
      "needs_background": "light"
     },
     "output_type": "display_data"
    }
   ],
   "source": [
    "plt.plot(hours,tseries)\n",
    "plt.title('September 7-8, 2020 in Boulder, CO')\n",
    "plt.ylabel('Temperature (degrees F)')\n",
    "plt.xlabel('Hour')\n",
    "N=len(tseries)\n",
    "sigma=np.std(tseries)  ## calculate the standard deviation\n",
    "mean=np.mean(tseries)  ## calculate the mean\n",
    "print('Sample Size N=',N)\n",
    "print('Mean Temperature',round(mean,1))\n",
    "print('Standard Deviation in Temperature',round(sigma,1))"
   ]
  },
  {
   "cell_type": "code",
   "execution_count": 75,
   "metadata": {},
   "outputs": [
    {
     "name": "stdout",
     "output_type": "stream",
     "text": [
      "np.correlate AR1: 0.02813\n",
      "direct calculation AR1: 0.02813\n"
     ]
    }
   ],
   "source": [
    "## Estimate lag-1 autocorrelation\n",
    "lag=1\n",
    "t1_m=tseries[0:-1*lag]-mean\n",
    "t2_m=tseries[lag:]-mean\n",
    "\n",
    "#Method #1\n",
    "#Calculate the autocorrelation using numpy correlate lagN\n",
    "AR1_np=np.correlate(t1_m,t2_m,mode='valid')/(N-lag)/(sigma**2)\n",
    "print('np.correlate AR1:',round(AR1_np[0],5))\n",
    "\n",
    "#Method #2 - direct calculation\n",
    "#Calculate the autocorrelation using numpy dot\n",
    "## (https://docs.scipy.org/doc/numpy-1.13.0/reference/generated/numpy.dot.html)\n",
    "AR1=np.dot(t1_m,t2_m)/(N-lag)/sigma**2 ## Barnes Chapter 2 Eq. 68 divided by the variance\n",
    "print('direct calculation AR1:',round(AR1,5))"
   ]
  },
  {
   "cell_type": "code",
   "execution_count": 62,
   "metadata": {},
   "outputs": [
    {
     "name": "stdout",
     "output_type": "stream",
     "text": [
      "Sample Size: 8\n",
      "Effective Sample Size Wilks (#independent samples): 3\n",
      "Effective Sample Size Leith (#independent samples): 4\n"
     ]
    }
   ],
   "source": [
    "## Calculate effective sample size\n",
    "Nstar_wilks=round(((1-AR1)/(1+AR1))*N) ## Barnes Chapter 2 eq. 88\n",
    "Nstar_leith=round((-0.5*np.log(AR1))*N) ## Barnes Chapter 2 eq. 90\n",
    "print('Sample Size:',N)\n",
    "print('Effective Sample Size Wilks (#independent samples):',Nstar_wilks)\n",
    "print('Effective Sample Size Leith (#independent samples):',Nstar_leith)"
   ]
  },
  {
   "cell_type": "code",
   "execution_count": null,
   "metadata": {},
   "outputs": [],
   "source": []
  },
  {
   "cell_type": "code",
   "execution_count": null,
   "metadata": {},
   "outputs": [],
   "source": []
  }
 ],
 "metadata": {
  "kernelspec": {
   "display_name": "Python 3",
   "language": "python",
   "name": "python3"
  },
  "language_info": {
   "codemirror_mode": {
    "name": "ipython",
    "version": 3
   },
   "file_extension": ".py",
   "mimetype": "text/x-python",
   "name": "python",
   "nbconvert_exporter": "python",
   "pygments_lexer": "ipython3",
   "version": "3.6.11"
  }
 },
 "nbformat": 4,
 "nbformat_minor": 2
}
